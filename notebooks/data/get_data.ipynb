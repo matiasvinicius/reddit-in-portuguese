{
 "cells": [
  {
   "cell_type": "markdown",
   "metadata": {},
   "source": [
    "# Getting the data\n",
    "\n",
    "The data were collected from users that has posted more at r/brasil, r/brasilivre and r/BrasildoB in a period of time between february and april of 2022. So, the top 25 were selected and then extracted the 1000 most recent comments they have written on Reddit. 2 were banned in meanwhile, so the final base consists of 23 authors. This dataset is stored at data/authors.csv.\n",
    "\n",
    "Focusing on being more precisely on authorship attribution problem, we selected from this base the users with a amount of comments between 975 and 1025, resulting in a balanced classification problem. We're talking about comments here, and because that we have some users that can comment the same text, and then raising a consistency problem, because all the information given in the base can be both corretly. We ignore duplicated comments beacuse that."
   ]
  },
  {
   "cell_type": "code",
   "execution_count": 6,
   "metadata": {},
   "outputs": [],
   "source": [
    "import seaborn as sns\n",
    "import matplotlib.pyplot as plt\n",
    "import sys\n",
    "sys.path.insert(1, '../../libs')\n",
    "from utils import get_data"
   ]
  },
  {
   "cell_type": "code",
   "execution_count": 2,
   "metadata": {},
   "outputs": [
    {
     "data": {
      "text/html": [
       "<div>\n",
       "<style scoped>\n",
       "    .dataframe tbody tr th:only-of-type {\n",
       "        vertical-align: middle;\n",
       "    }\n",
       "\n",
       "    .dataframe tbody tr th {\n",
       "        vertical-align: top;\n",
       "    }\n",
       "\n",
       "    .dataframe thead th {\n",
       "        text-align: right;\n",
       "    }\n",
       "</style>\n",
       "<table border=\"1\" class=\"dataframe\">\n",
       "  <thead>\n",
       "    <tr style=\"text-align: right;\">\n",
       "      <th></th>\n",
       "      <th>username</th>\n",
       "      <th>comment</th>\n",
       "      <th>created_utc</th>\n",
       "    </tr>\n",
       "  </thead>\n",
       "  <tbody>\n",
       "    <tr>\n",
       "      <th>16777</th>\n",
       "      <td>Manada_2</td>\n",
       "      <td>Levonhardu para deputado federal!</td>\n",
       "      <td>2022-03-09 14:17:46+00:00</td>\n",
       "    </tr>\n",
       "    <tr>\n",
       "      <th>15505</th>\n",
       "      <td>BluePirate89</td>\n",
       "      <td>Basement dwellers</td>\n",
       "      <td>2022-03-31 16:00:06+00:00</td>\n",
       "    </tr>\n",
       "    <tr>\n",
       "      <th>11424</th>\n",
       "      <td>9-Cortes</td>\n",
       "      <td>Frase mentirosa. Sempre a mesma coisa. Sempre ...</td>\n",
       "      <td>2021-11-29 02:08:23+00:00</td>\n",
       "    </tr>\n",
       "    <tr>\n",
       "      <th>984</th>\n",
       "      <td>Supermunch2000</td>\n",
       "      <td>Forced memes are forced memes.</td>\n",
       "      <td>2021-12-21 12:01:05+00:00</td>\n",
       "    </tr>\n",
       "    <tr>\n",
       "      <th>17668</th>\n",
       "      <td>TheGza1</td>\n",
       "      <td>Já tem na região que vcs moram? Meu filho não ...</td>\n",
       "      <td>2021-08-10 12:49:03+00:00</td>\n",
       "    </tr>\n",
       "    <tr>\n",
       "      <th>...</th>\n",
       "      <td>...</td>\n",
       "      <td>...</td>\n",
       "      <td>...</td>\n",
       "    </tr>\n",
       "    <tr>\n",
       "      <th>11284</th>\n",
       "      <td>9-Cortes</td>\n",
       "      <td>A questão do vício nem tinha sido levantada aq...</td>\n",
       "      <td>2022-01-13 17:44:46+00:00</td>\n",
       "    </tr>\n",
       "    <tr>\n",
       "      <th>11964</th>\n",
       "      <td>9-Cortes</td>\n",
       "      <td>O Lula é inocente e vcs cidadãos, são todos po...</td>\n",
       "      <td>2021-04-15 23:50:15+00:00</td>\n",
       "    </tr>\n",
       "    <tr>\n",
       "      <th>860</th>\n",
       "      <td>Supermunch2000</td>\n",
       "      <td>Ele está acostumado a engolir a gosminha molha...</td>\n",
       "      <td>2022-01-05 16:33:10+00:00</td>\n",
       "    </tr>\n",
       "    <tr>\n",
       "      <th>15795</th>\n",
       "      <td>BluePirate89</td>\n",
       "      <td>Bolsonaro depois de receber o dinheiro da milí...</td>\n",
       "      <td>2022-03-24 03:40:15+00:00</td>\n",
       "    </tr>\n",
       "    <tr>\n",
       "      <th>23654</th>\n",
       "      <td>logatwork</td>\n",
       "      <td>Eis um comentário lúcido do tipo que precisamo...</td>\n",
       "      <td>2021-10-03 09:26:20+00:00</td>\n",
       "    </tr>\n",
       "  </tbody>\n",
       "</table>\n",
       "<p>14520 rows × 3 columns</p>\n",
       "</div>"
      ],
      "text/plain": [
       "             username                                            comment  \\\n",
       "16777        Manada_2                  Levonhardu para deputado federal!   \n",
       "15505    BluePirate89                                  Basement dwellers   \n",
       "11424        9-Cortes  Frase mentirosa. Sempre a mesma coisa. Sempre ...   \n",
       "984    Supermunch2000                     Forced memes are forced memes.   \n",
       "17668         TheGza1  Já tem na região que vcs moram? Meu filho não ...   \n",
       "...               ...                                                ...   \n",
       "11284        9-Cortes  A questão do vício nem tinha sido levantada aq...   \n",
       "11964        9-Cortes  O Lula é inocente e vcs cidadãos, são todos po...   \n",
       "860    Supermunch2000  Ele está acostumado a engolir a gosminha molha...   \n",
       "15795    BluePirate89  Bolsonaro depois de receber o dinheiro da milí...   \n",
       "23654       logatwork  Eis um comentário lúcido do tipo que precisamo...   \n",
       "\n",
       "                     created_utc  \n",
       "16777  2022-03-09 14:17:46+00:00  \n",
       "15505  2022-03-31 16:00:06+00:00  \n",
       "11424  2021-11-29 02:08:23+00:00  \n",
       "984    2021-12-21 12:01:05+00:00  \n",
       "17668  2021-08-10 12:49:03+00:00  \n",
       "...                          ...  \n",
       "11284  2022-01-13 17:44:46+00:00  \n",
       "11964  2021-04-15 23:50:15+00:00  \n",
       "860    2022-01-05 16:33:10+00:00  \n",
       "15795  2022-03-24 03:40:15+00:00  \n",
       "23654  2021-10-03 09:26:20+00:00  \n",
       "\n",
       "[14520 rows x 3 columns]"
      ]
     },
     "execution_count": 2,
     "metadata": {},
     "output_type": "execute_result"
    }
   ],
   "source": [
    "data = get_data(\"../../data/authors.csv\", \n",
    "                select_authors=True, \n",
    "                remove_duplicates=True)\n",
    "data"
   ]
  },
  {
   "cell_type": "code",
   "execution_count": 15,
   "metadata": {},
   "outputs": [
    {
     "data": {
      "image/png": "[encoded data removed]",
      "text/plain": [
       "<Figure size 576x288 with 1 Axes>"
      ]
     },
     "metadata": {
      "needs_background": "light"
     },
     "output_type": "display_data"
    }
   ],
   "source": [
    "plt.figure(figsize=(8,4))\n",
    "ax = sns.histplot(data.groupby(\"username\")[\"comment\"].count())\n",
    "ax.set(xlabel=\"Comments count\", ylabel=\"Users count\")\n",
    "plt.tight_layout()"
   ]
  }
 ],
 "metadata": {
  "interpreter": {
   "hash": "c47aa80a392bf6b860d7beb7b265756c1d97ffcd6d5effdf04ac88dd49d67208"
  },
  "kernelspec": {
   "display_name": "Python 3.8.10 ('reddit-in-portuguese-CNZVnMpw')",
   "language": "python",
   "name": "python3"
  },
  "language_info": {
   "codemirror_mode": {
    "name": "ipython",
    "version": 3
   },
   "file_extension": ".py",
   "mimetype": "text/x-python",
   "name": "python",
   "nbconvert_exporter": "python",
   "pygments_lexer": "ipython3",
   "version": "3.8.10"
  },
  "orig_nbformat": 4
 },
 "nbformat": 4,
 "nbformat_minor": 2
}
