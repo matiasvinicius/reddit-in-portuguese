{
 "cells": [
  {
   "cell_type": "code",
   "execution_count": null,
   "metadata": {},
   "outputs": [],
   "source": [
    "!python -m spacy download pt_core_news_lg"
   ]
  },
  {
   "cell_type": "code",
   "execution_count": 9,
   "metadata": {},
   "outputs": [],
   "source": [
    "import sys\n",
    "sys.path.insert(1, '../../libs')\n",
    "from utils import get_data, temporal_train_test_split\n",
    "\n",
    "import numpy as np\n",
    "from tensorflow import keras\n",
    "import spacy\n",
    "from spacy.lang.pt.examples import sentences "
   ]
  },
  {
   "cell_type": "code",
   "execution_count": 7,
   "metadata": {},
   "outputs": [],
   "source": [
    "data = get_data(\"../../data/authors.csv\")"
   ]
  },
  {
   "cell_type": "code",
   "execution_count": 8,
   "metadata": {},
   "outputs": [],
   "source": [
    "pos_converter = spacy.load(\"pt_core_news_lg\")\n",
    "pos_texts = [pos_converter(text) for text in data.comment]"
   ]
  },
  {
   "cell_type": "code",
   "execution_count": 10,
   "metadata": {},
   "outputs": [],
   "source": [
    "pos = np.empty(len(pos_texts), dtype='object')\n",
    "for i in range(len(pos_texts)):\n",
    "    pos[i] = \" \".join([token.pos_ for token in pos_texts[i]])"
   ]
  },
  {
   "cell_type": "code",
   "execution_count": 13,
   "metadata": {},
   "outputs": [
    {
     "data": {
      "text/html": [
       "<div>\n",
       "<style scoped>\n",
       "    .dataframe tbody tr th:only-of-type {\n",
       "        vertical-align: middle;\n",
       "    }\n",
       "\n",
       "    .dataframe tbody tr th {\n",
       "        vertical-align: top;\n",
       "    }\n",
       "\n",
       "    .dataframe thead th {\n",
       "        text-align: right;\n",
       "    }\n",
       "</style>\n",
       "<table border=\"1\" class=\"dataframe\">\n",
       "  <thead>\n",
       "    <tr style=\"text-align: right;\">\n",
       "      <th></th>\n",
       "      <th>username</th>\n",
       "      <th>comment</th>\n",
       "      <th>created_utc</th>\n",
       "      <th>pos</th>\n",
       "    </tr>\n",
       "  </thead>\n",
       "  <tbody>\n",
       "    <tr>\n",
       "      <th>16777</th>\n",
       "      <td>Manada_2</td>\n",
       "      <td>Levonhardu para deputado federal!</td>\n",
       "      <td>2022-03-09 14:17:46+00:00</td>\n",
       "      <td>PROPN ADP NOUN ADJ PUNCT</td>\n",
       "    </tr>\n",
       "    <tr>\n",
       "      <th>15505</th>\n",
       "      <td>BluePirate89</td>\n",
       "      <td>Basement dwellers</td>\n",
       "      <td>2022-03-31 16:00:06+00:00</td>\n",
       "      <td>NOUN PROPN</td>\n",
       "    </tr>\n",
       "    <tr>\n",
       "      <th>11424</th>\n",
       "      <td>9-Cortes</td>\n",
       "      <td>Frase mentirosa. Sempre a mesma coisa. Sempre ...</td>\n",
       "      <td>2021-11-29 02:08:23+00:00</td>\n",
       "      <td>NOUN ADJ PUNCT ADV DET ADJ NOUN PUNCT ADV DET ...</td>\n",
       "    </tr>\n",
       "    <tr>\n",
       "      <th>984</th>\n",
       "      <td>Supermunch2000</td>\n",
       "      <td>Forced memes are forced memes.</td>\n",
       "      <td>2021-12-21 12:01:05+00:00</td>\n",
       "      <td>PROPN NOUN X VERB ADJ PUNCT</td>\n",
       "    </tr>\n",
       "    <tr>\n",
       "      <th>17668</th>\n",
       "      <td>TheGza1</td>\n",
       "      <td>Já tem na região que vcs moram? Meu filho não ...</td>\n",
       "      <td>2021-08-10 12:49:03+00:00</td>\n",
       "      <td>ADV VERB ADP NOUN PRON PRON VERB PUNCT DET NOU...</td>\n",
       "    </tr>\n",
       "    <tr>\n",
       "      <th>...</th>\n",
       "      <td>...</td>\n",
       "      <td>...</td>\n",
       "      <td>...</td>\n",
       "      <td>...</td>\n",
       "    </tr>\n",
       "    <tr>\n",
       "      <th>11284</th>\n",
       "      <td>9-Cortes</td>\n",
       "      <td>A questão do vício nem tinha sido levantada aq...</td>\n",
       "      <td>2022-01-13 17:44:46+00:00</td>\n",
       "      <td>DET NOUN ADP NOUN ADV AUX AUX VERB ADV PUNCT C...</td>\n",
       "    </tr>\n",
       "    <tr>\n",
       "      <th>11964</th>\n",
       "      <td>9-Cortes</td>\n",
       "      <td>O Lula é inocente e vcs cidadãos, são todos po...</td>\n",
       "      <td>2021-04-15 23:50:15+00:00</td>\n",
       "      <td>DET PROPN AUX ADJ CCONJ DET NOUN PUNCT AUX DET...</td>\n",
       "    </tr>\n",
       "    <tr>\n",
       "      <th>860</th>\n",
       "      <td>Supermunch2000</td>\n",
       "      <td>Ele está acostumado a engolir a gosminha molha...</td>\n",
       "      <td>2022-01-05 16:33:10+00:00</td>\n",
       "      <td>PRON AUX ADJ SCONJ VERB DET ADJ VERB CCONJ NOU...</td>\n",
       "    </tr>\n",
       "    <tr>\n",
       "      <th>15795</th>\n",
       "      <td>BluePirate89</td>\n",
       "      <td>Bolsonaro depois de receber o dinheiro da milí...</td>\n",
       "      <td>2022-03-24 03:40:15+00:00</td>\n",
       "      <td>PROPN ADV ADP VERB DET NOUN ADP NOUN CCONJ VER...</td>\n",
       "    </tr>\n",
       "    <tr>\n",
       "      <th>23654</th>\n",
       "      <td>logatwork</td>\n",
       "      <td>Eis um comentário lúcido do tipo que precisamo...</td>\n",
       "      <td>2021-10-03 09:26:20+00:00</td>\n",
       "      <td>AUX DET NOUN ADJ ADP NOUN PRON VERB VERB ADV A...</td>\n",
       "    </tr>\n",
       "  </tbody>\n",
       "</table>\n",
       "<p>14520 rows × 4 columns</p>\n",
       "</div>"
      ],
      "text/plain": [
       "             username                                            comment  \\\n",
       "16777        Manada_2                  Levonhardu para deputado federal!   \n",
       "15505    BluePirate89                                  Basement dwellers   \n",
       "11424        9-Cortes  Frase mentirosa. Sempre a mesma coisa. Sempre ...   \n",
       "984    Supermunch2000                     Forced memes are forced memes.   \n",
       "17668         TheGza1  Já tem na região que vcs moram? Meu filho não ...   \n",
       "...               ...                                                ...   \n",
       "11284        9-Cortes  A questão do vício nem tinha sido levantada aq...   \n",
       "11964        9-Cortes  O Lula é inocente e vcs cidadãos, são todos po...   \n",
       "860    Supermunch2000  Ele está acostumado a engolir a gosminha molha...   \n",
       "15795    BluePirate89  Bolsonaro depois de receber o dinheiro da milí...   \n",
       "23654       logatwork  Eis um comentário lúcido do tipo que precisamo...   \n",
       "\n",
       "                     created_utc  \\\n",
       "16777  2022-03-09 14:17:46+00:00   \n",
       "15505  2022-03-31 16:00:06+00:00   \n",
       "11424  2021-11-29 02:08:23+00:00   \n",
       "984    2021-12-21 12:01:05+00:00   \n",
       "17668  2021-08-10 12:49:03+00:00   \n",
       "...                          ...   \n",
       "11284  2022-01-13 17:44:46+00:00   \n",
       "11964  2021-04-15 23:50:15+00:00   \n",
       "860    2022-01-05 16:33:10+00:00   \n",
       "15795  2022-03-24 03:40:15+00:00   \n",
       "23654  2021-10-03 09:26:20+00:00   \n",
       "\n",
       "                                                     pos  \n",
       "16777                           PROPN ADP NOUN ADJ PUNCT  \n",
       "15505                                         NOUN PROPN  \n",
       "11424  NOUN ADJ PUNCT ADV DET ADJ NOUN PUNCT ADV DET ...  \n",
       "984                          PROPN NOUN X VERB ADJ PUNCT  \n",
       "17668  ADV VERB ADP NOUN PRON PRON VERB PUNCT DET NOU...  \n",
       "...                                                  ...  \n",
       "11284  DET NOUN ADP NOUN ADV AUX AUX VERB ADV PUNCT C...  \n",
       "11964  DET PROPN AUX ADJ CCONJ DET NOUN PUNCT AUX DET...  \n",
       "860    PRON AUX ADJ SCONJ VERB DET ADJ VERB CCONJ NOU...  \n",
       "15795  PROPN ADV ADP VERB DET NOUN ADP NOUN CCONJ VER...  \n",
       "23654  AUX DET NOUN ADJ ADP NOUN PRON VERB VERB ADV A...  \n",
       "\n",
       "[14520 rows x 4 columns]"
      ]
     },
     "execution_count": 13,
     "metadata": {},
     "output_type": "execute_result"
    }
   ],
   "source": [
    "data[\"pos\"] = pos\n",
    "data"
   ]
  },
  {
   "cell_type": "code",
   "execution_count": 15,
   "metadata": {},
   "outputs": [],
   "source": [
    "data.to_csv(\"../../data/authors_pos.csv\")"
   ]
  }
 ],
 "metadata": {
  "interpreter": {
   "hash": "2961734913207ee881f462d4bc826f1f53aa8b6216ab04f585499525ca3800dd"
  },
  "kernelspec": {
   "display_name": "Python 3.8.12 ('reddit-in-portuguese-Kyc7Ejcc')",
   "language": "python",
   "name": "python3"
  },
  "language_info": {
   "codemirror_mode": {
    "name": "ipython",
    "version": 3
   },
   "file_extension": ".py",
   "mimetype": "text/x-python",
   "name": "python",
   "nbconvert_exporter": "python",
   "pygments_lexer": "ipython3",
   "version": "3.8.12"
  },
  "orig_nbformat": 4
 },
 "nbformat": 4,
 "nbformat_minor": 2
}
