{
 "cells": [
  {
   "cell_type": "code",
   "execution_count": 15,
   "metadata": {},
   "outputs": [],
   "source": [
    "from transformers import AutoTokenizer  # Or BertTokenizer\n",
    "from transformers import AutoModelForPreTraining  # Or BertForPreTraining for loading pretraining heads\n",
    "from transformers import AutoModel  # or BertModel, for BERT without pretraining heads\n",
    "import torch\n",
    "from transformers import BertTokenizer\n",
    "from sklearn.preprocessing import LabelEncoder"
   ]
  },
  {
   "cell_type": "code",
   "execution_count": 2,
   "metadata": {},
   "outputs": [],
   "source": [
    "from sklearn.feature_extraction.text import CountVectorizer\n",
    "from sklearn.utils import shuffle\n",
    "from sklearn.model_selection import train_test_split\n",
    "from sklearn.feature_selection import mutual_info_classif\n",
    "import pandas as pd\n",
    "import numpy as np\n",
    "import matplotlib.pyplot as plt\n",
    "import seaborn as sns"
   ]
  },
  {
   "cell_type": "code",
   "execution_count": 3,
   "metadata": {},
   "outputs": [],
   "source": [
    "authors = pd.read_csv(\"../../data/authors.csv\")\n",
    "authors = authors[[\"comment\", \"username\"]]\n",
    "authors = shuffle(authors, random_state=42)\n",
    "authors.reset_index(inplace=True)\n",
    "authors.drop(\"index\", axis=1, inplace=True)"
   ]
  },
  {
   "cell_type": "code",
   "execution_count": 4,
   "metadata": {},
   "outputs": [
    {
     "data": {
      "text/html": [
       "<div>\n",
       "<style scoped>\n",
       "    .dataframe tbody tr th:only-of-type {\n",
       "        vertical-align: middle;\n",
       "    }\n",
       "\n",
       "    .dataframe tbody tr th {\n",
       "        vertical-align: top;\n",
       "    }\n",
       "\n",
       "    .dataframe thead th {\n",
       "        text-align: right;\n",
       "    }\n",
       "</style>\n",
       "<table border=\"1\" class=\"dataframe\">\n",
       "  <thead>\n",
       "    <tr style=\"text-align: right;\">\n",
       "      <th></th>\n",
       "      <th>comment</th>\n",
       "      <th>username</th>\n",
       "    </tr>\n",
       "  </thead>\n",
       "  <tbody>\n",
       "    <tr>\n",
       "      <th>0</th>\n",
       "      <td>Essa galera ta na 2° internacional ainda kkkkk</td>\n",
       "      <td>ToguroSenpai</td>\n",
       "    </tr>\n",
       "    <tr>\n",
       "      <th>1</th>\n",
       "      <td>Rapaz, vcs falas as coisas, e ninguém pode dis...</td>\n",
       "      <td>squiercg</td>\n",
       "    </tr>\n",
       "    <tr>\n",
       "      <th>2</th>\n",
       "      <td>Levonhardu para deputado federal!</td>\n",
       "      <td>Manada_2</td>\n",
       "    </tr>\n",
       "    <tr>\n",
       "      <th>3</th>\n",
       "      <td>Basement dwellers</td>\n",
       "      <td>BluePirate89</td>\n",
       "    </tr>\n",
       "    <tr>\n",
       "      <th>4</th>\n",
       "      <td>Frase mentirosa. Sempre a mesma coisa. Sempre ...</td>\n",
       "      <td>9-Cortes</td>\n",
       "    </tr>\n",
       "    <tr>\n",
       "      <th>...</th>\n",
       "      <td>...</td>\n",
       "      <td>...</td>\n",
       "    </tr>\n",
       "    <tr>\n",
       "      <th>23943</th>\n",
       "      <td>Eu não gosto do Kim mas o fato do Monark chama...</td>\n",
       "      <td>uziel7</td>\n",
       "    </tr>\n",
       "    <tr>\n",
       "      <th>23944</th>\n",
       "      <td>Me parecem boas causas ao Partido \"A Unidade P...</td>\n",
       "      <td>Manperapp</td>\n",
       "    </tr>\n",
       "    <tr>\n",
       "      <th>23945</th>\n",
       "      <td>Ele está acostumado a engolir a gosminha molha...</td>\n",
       "      <td>Supermunch2000</td>\n",
       "    </tr>\n",
       "    <tr>\n",
       "      <th>23946</th>\n",
       "      <td>Bolsonaro depois de receber o dinheiro da milí...</td>\n",
       "      <td>BluePirate89</td>\n",
       "    </tr>\n",
       "    <tr>\n",
       "      <th>23947</th>\n",
       "      <td>Eis um comentário lúcido do tipo que precisamo...</td>\n",
       "      <td>logatwork</td>\n",
       "    </tr>\n",
       "  </tbody>\n",
       "</table>\n",
       "<p>23948 rows × 2 columns</p>\n",
       "</div>"
      ],
      "text/plain": [
       "                                                 comment        username\n",
       "0         Essa galera ta na 2° internacional ainda kkkkk    ToguroSenpai\n",
       "1      Rapaz, vcs falas as coisas, e ninguém pode dis...        squiercg\n",
       "2                      Levonhardu para deputado federal!        Manada_2\n",
       "3                                      Basement dwellers    BluePirate89\n",
       "4      Frase mentirosa. Sempre a mesma coisa. Sempre ...        9-Cortes\n",
       "...                                                  ...             ...\n",
       "23943  Eu não gosto do Kim mas o fato do Monark chama...          uziel7\n",
       "23944  Me parecem boas causas ao Partido \"A Unidade P...       Manperapp\n",
       "23945  Ele está acostumado a engolir a gosminha molha...  Supermunch2000\n",
       "23946  Bolsonaro depois de receber o dinheiro da milí...    BluePirate89\n",
       "23947  Eis um comentário lúcido do tipo que precisamo...       logatwork\n",
       "\n",
       "[23948 rows x 2 columns]"
      ]
     },
     "execution_count": 4,
     "metadata": {},
     "output_type": "execute_result"
    }
   ],
   "source": [
    "authors"
   ]
  },
  {
   "cell_type": "code",
   "execution_count": 16,
   "metadata": {},
   "outputs": [
    {
     "name": "stderr",
     "output_type": "stream",
     "text": [
      "Downloading: 100%|██████████| 205k/205k [00:00<00:00, 341kB/s] \n",
      "Downloading: 100%|██████████| 2.00/2.00 [00:00<00:00, 477B/s]\n",
      "Downloading: 100%|██████████| 112/112 [00:00<00:00, 78.8kB/s]\n",
      "Downloading: 100%|██████████| 43.0/43.0 [00:00<00:00, 16.2kB/s]\n",
      "Downloading: 100%|██████████| 647/647 [00:00<00:00, 389kB/s]\n"
     ]
    }
   ],
   "source": [
    "tokenizer = BertTokenizer.from_pretrained('neuralmind/bert-base-portuguese-cased')\n",
    "le = LabelEncoder()\n",
    "ids = le.fit_transform(authors.username)\n",
    "labels = dict(zip(le.classes_, range(len(le.classes_))))"
   ]
  },
  {
   "cell_type": "code",
   "execution_count": 17,
   "metadata": {},
   "outputs": [
    {
     "name": "stdout",
     "output_type": "stream",
     "text": [
      "Quantidade de comentários: 23948\n"
     ]
    }
   ],
   "source": [
    "y = [labels[label] for label in authors['username']]\n",
    "print(\"Quantidade de comentários:\", len(y))"
   ]
  },
  {
   "cell_type": "code",
   "execution_count": 18,
   "metadata": {},
   "outputs": [],
   "source": [
    "texts = [tokenizer.encode(text, \n",
    "                padding='max_length', \n",
    "                max_length = 512, \n",
    "                truncation=True, \n",
    "                return_tensors=\"pt\") \n",
    "            for text in authors['comment']]"
   ]
  },
  {
   "cell_type": "code",
   "execution_count": null,
   "metadata": {},
   "outputs": [],
   "source": [
    "model = AutoModel.from_pretrained('neuralmind/bert-base-portuguese-cased')\n",
    "bert_embeddings = list()"
   ]
  },
  {
   "cell_type": "code",
   "execution_count": null,
   "metadata": {},
   "outputs": [],
   "source": [
    "print(texts)"
   ]
  },
  {
   "cell_type": "code",
   "execution_count": 40,
   "metadata": {},
   "outputs": [
    {
     "name": "stdout",
     "output_type": "stream",
     "text": [
      "{'comment': 'Essa galera ta na 2° internacional ainda kkkkk', 'username': 'ToguroSenpai', 'embedding': tensor([[ 1.5931e-02, -1.1629e-01,  9.4360e-01,  ...,  1.2968e-01,\n",
      "          4.1585e-01, -8.6580e-02],\n",
      "        [ 4.9208e-01, -1.7203e-01,  1.7385e-01,  ...,  1.2356e-01,\n",
      "          3.6446e-01,  1.3847e-03],\n",
      "        [-2.3169e-01, -5.7046e-02,  1.5214e+00,  ..., -7.6107e-02,\n",
      "          3.7596e-01, -7.2401e-01],\n",
      "        ...,\n",
      "        [-5.6271e-01, -1.5298e-01,  8.3737e-01,  ...,  5.6805e-01,\n",
      "          8.4915e-01,  2.0434e-01],\n",
      "        [-5.3157e-01, -1.0473e-01,  9.2934e-01,  ...,  4.3956e-01,\n",
      "          8.3178e-01,  2.2532e-01],\n",
      "        [-3.2283e-01, -1.9415e-02,  8.5392e-01,  ...,  1.7822e-01,\n",
      "          6.3939e-01,  8.2012e-02]])}\n"
     ]
    }
   ],
   "source": [
    "for i, text in enumerate(texts):\n",
    "    with torch.no_grad():\n",
    "        outs = model(text)\n",
    "        encoded = outs[0][0, 1:-1]\n",
    "        # with open('document.csv','a') as fd:\n",
    "        #     fd.write(myCsvRow)\n",
    "    d = {\"comment\": authors.loc[i, \"comment\"], \n",
    "    \"username\": authors.loc[i, \"username\"],\n",
    "    \"embedding\": encoded}\n",
    "    break\n",
    "\n",
    "    if i%100 == 0: print(i)"
   ]
  },
  {
   "cell_type": "code",
   "execution_count": null,
   "metadata": {},
   "outputs": [],
   "source": [
    "X = bert_embeddings\n",
    "y = authors[\"username\"]"
   ]
  },
  {
   "cell_type": "code",
   "execution_count": null,
   "metadata": {},
   "outputs": [],
   "source": [
    "from sklearn.model_selection import train_test_split\n",
    "X_train, X_test, y_train, y_test = train_test_split(\n",
    "    X, y, test_size=0.33, random_state=42)"
   ]
  },
  {
   "cell_type": "code",
   "execution_count": null,
   "metadata": {},
   "outputs": [],
   "source": [
    "from sklearn.tree import DecisionTreeClassifier\n",
    "from sklearn.metrics import classification_report"
   ]
  },
  {
   "cell_type": "code",
   "execution_count": 91,
   "metadata": {},
   "outputs": [
    {
     "data": {
      "text/plain": [
       "67"
      ]
     },
     "execution_count": 91,
     "metadata": {},
     "output_type": "execute_result"
    }
   ],
   "source": [
    "#X_train2 = [np.array(x.reshape(1,-1)) for x in X_train]\n",
    "#len(X_train2)"
   ]
  },
  {
   "cell_type": "code",
   "execution_count": null,
   "metadata": {},
   "outputs": [
    {
     "data": {
      "text/plain": [
       "(67, 391680)"
      ]
     },
     "execution_count": 133,
     "metadata": {},
     "output_type": "execute_result"
    }
   ],
   "source": [
    "X_train2 = np.array([np.array(x.reshape(1,-1).flatten()) for x in X_train])\n",
    "X_train2.shape"
   ]
  },
  {
   "cell_type": "code",
   "execution_count": null,
   "metadata": {},
   "outputs": [
    {
     "data": {
      "text/plain": [
       "DecisionTreeClassifier()"
      ]
     },
     "execution_count": 137,
     "metadata": {},
     "output_type": "execute_result"
    }
   ],
   "source": [
    "clf = DecisionTreeClassifier()\n",
    "clf.fit(X_train2, y_train)"
   ]
  },
  {
   "cell_type": "code",
   "execution_count": null,
   "metadata": {},
   "outputs": [
    {
     "data": {
      "text/plain": [
       "(34, 391680)"
      ]
     },
     "execution_count": 138,
     "metadata": {},
     "output_type": "execute_result"
    }
   ],
   "source": [
    "X_test2 = np.array([np.array(x.reshape(1,-1).flatten()) for x in X_test])\n",
    "X_test2.shape"
   ]
  },
  {
   "cell_type": "code",
   "execution_count": null,
   "metadata": {},
   "outputs": [],
   "source": [
    "y_pred = clf.predict(X_test2)"
   ]
  },
  {
   "cell_type": "code",
   "execution_count": null,
   "metadata": {},
   "outputs": [
    {
     "name": "stdout",
     "output_type": "stream",
     "text": [
      "                 precision    recall  f1-score   support\n",
      "\n",
      "MidnightRider00       0.68      0.68      0.68        22\n",
      "        TheGza1       0.42      0.42      0.42        12\n",
      "\n",
      "       accuracy                           0.59        34\n",
      "      macro avg       0.55      0.55      0.55        34\n",
      "   weighted avg       0.59      0.59      0.59        34\n",
      "\n"
     ]
    }
   ],
   "source": [
    "print(classification_report(y_test, y_pred))"
   ]
  }
 ],
 "metadata": {
  "interpreter": {
   "hash": "2961734913207ee881f462d4bc826f1f53aa8b6216ab04f585499525ca3800dd"
  },
  "kernelspec": {
   "display_name": "Python 3.8.12 ('reddit-in-portuguese-Kyc7Ejcc')",
   "language": "python",
   "name": "python3"
  },
  "language_info": {
   "codemirror_mode": {
    "name": "ipython",
    "version": 3
   },
   "file_extension": ".py",
   "mimetype": "text/x-python",
   "name": "python",
   "nbconvert_exporter": "python",
   "pygments_lexer": "ipython3",
   "version": "3.8.12"
  },
  "orig_nbformat": 4
 },
 "nbformat": 4,
 "nbformat_minor": 2
}
