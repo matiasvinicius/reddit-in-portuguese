{
 "cells": [
  {
   "cell_type": "code",
   "execution_count": 1,
   "metadata": {},
   "outputs": [],
   "source": [
    "import sys\n",
    "sys.path.insert(1, '../../libs')\n",
    "from utils import get_data, temporal_train_test_split\n",
    "from autorship import AuthorClassifier\n",
    "from sklearn.preprocessing import MinMaxScaler\n",
    "from sklearn.feature_extraction.text import TfidfVectorizer, CountVectorizer\n",
    "import numpy as np\n",
    "import pandas as pd"
   ]
  },
  {
   "cell_type": "code",
   "execution_count": 2,
   "metadata": {},
   "outputs": [],
   "source": [
    "data = get_data(\"../../data/authors.csv\")"
   ]
  },
  {
   "cell_type": "code",
   "execution_count": 3,
   "metadata": {},
   "outputs": [
    {
     "data": {
      "text/html": [
       "<div>\n",
       "<style scoped>\n",
       "    .dataframe tbody tr th:only-of-type {\n",
       "        vertical-align: middle;\n",
       "    }\n",
       "\n",
       "    .dataframe tbody tr th {\n",
       "        vertical-align: top;\n",
       "    }\n",
       "\n",
       "    .dataframe thead th {\n",
       "        text-align: right;\n",
       "    }\n",
       "</style>\n",
       "<table border=\"1\" class=\"dataframe\">\n",
       "  <thead>\n",
       "    <tr style=\"text-align: right;\">\n",
       "      <th></th>\n",
       "      <th>f1_macro</th>\n",
       "      <th>recall_macro</th>\n",
       "      <th>precision_macro</th>\n",
       "      <th>accuracy</th>\n",
       "      <th>auc_score</th>\n",
       "    </tr>\n",
       "  </thead>\n",
       "  <tbody>\n",
       "    <tr>\n",
       "      <th>mean</th>\n",
       "      <td>0.768477</td>\n",
       "      <td>0.773636</td>\n",
       "      <td>0.801142</td>\n",
       "      <td>0.775045</td>\n",
       "      <td>0.882491</td>\n",
       "    </tr>\n",
       "    <tr>\n",
       "      <th>std</th>\n",
       "      <td>0.060833</td>\n",
       "      <td>0.057297</td>\n",
       "      <td>0.051973</td>\n",
       "      <td>0.056780</td>\n",
       "      <td>0.056323</td>\n",
       "    </tr>\n",
       "    <tr>\n",
       "      <th>median</th>\n",
       "      <td>0.764200</td>\n",
       "      <td>0.768200</td>\n",
       "      <td>0.804000</td>\n",
       "      <td>0.769800</td>\n",
       "      <td>0.895600</td>\n",
       "    </tr>\n",
       "    <tr>\n",
       "      <th>min</th>\n",
       "      <td>0.610700</td>\n",
       "      <td>0.622300</td>\n",
       "      <td>0.642400</td>\n",
       "      <td>0.626000</td>\n",
       "      <td>0.712100</td>\n",
       "    </tr>\n",
       "    <tr>\n",
       "      <th>max</th>\n",
       "      <td>0.932800</td>\n",
       "      <td>0.932400</td>\n",
       "      <td>0.935900</td>\n",
       "      <td>0.932900</td>\n",
       "      <td>0.982200</td>\n",
       "    </tr>\n",
       "  </tbody>\n",
       "</table>\n",
       "</div>"
      ],
      "text/plain": [
       "        f1_macro  recall_macro  precision_macro  accuracy  auc_score\n",
       "mean    0.768477      0.773636         0.801142  0.775045   0.882491\n",
       "std     0.060833      0.057297         0.051973  0.056780   0.056323\n",
       "median  0.764200      0.768200         0.804000  0.769800   0.895600\n",
       "min     0.610700      0.622300         0.642400  0.626000   0.712100\n",
       "max     0.932800      0.932400         0.935900  0.932900   0.982200"
      ]
     },
     "execution_count": 3,
     "metadata": {},
     "output_type": "execute_result"
    }
   ],
   "source": [
    "# use best params from grid search to train and test other authorship models\n",
    "usernames = list(np.unique(data[\"username\"]))\n",
    "evaluation = list()\n",
    "\n",
    "for i in range(len(usernames)):\n",
    "    author1 = usernames.pop()\n",
    "    for author2 in usernames:\n",
    "        X_train, X_test, y_train, y_test = temporal_train_test_split(\n",
    "            data, author1, author2)\n",
    "\n",
    "        clf = AuthorClassifier()\n",
    "        clf.fit(X_train, y_train)\n",
    "        y_pred = clf.predict(X_test)\n",
    "        evaluation.append(clf.evaluate(y_test, y_pred))\n",
    "\n",
    "pd.DataFrame(evaluation)[[\"f1_macro\", \"recall_macro\", \"precision_macro\", \"accuracy\", \"auc_score\"]].agg([\"mean\", \"std\", \"median\", \"min\", \"max\"])"
   ]
  }
 ],
 "metadata": {
  "interpreter": {
   "hash": "c47aa80a392bf6b860d7beb7b265756c1d97ffcd6d5effdf04ac88dd49d67208"
  },
  "kernelspec": {
   "display_name": "Python 3.8.10 ('reddit-in-portuguese-CNZVnMpw')",
   "language": "python",
   "name": "python3"
  },
  "language_info": {
   "codemirror_mode": {
    "name": "ipython",
    "version": 3
   },
   "file_extension": ".py",
   "mimetype": "text/x-python",
   "name": "python",
   "nbconvert_exporter": "python",
   "pygments_lexer": "ipython3",
   "version": "3.8.12"
  },
  "orig_nbformat": 4
 },
 "nbformat": 4,
 "nbformat_minor": 2
}
