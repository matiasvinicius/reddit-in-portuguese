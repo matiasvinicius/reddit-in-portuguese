{
 "cells": [
  {
   "cell_type": "code",
   "execution_count": 1,
   "metadata": {},
   "outputs": [],
   "source": [
    "import sys\n",
    "sys.path.insert(1, '../../libs')\n",
    "from utils import get_data, temporal_train_test_split\n",
    "from autorship import AuthorClassifier\n",
    "from sklearn.preprocessing import MinMaxScaler\n",
    "from sklearn.naive_bayes import MultinomialNB\n",
    "from sklearn.feature_selection import SelectKBest\n",
    "from sklearn.feature_extraction.text import TfidfVectorizer, CountVectorizer\n",
    "import numpy as np\n",
    "import pandas as pd\n",
    "import re"
   ]
  },
  {
   "cell_type": "code",
   "execution_count": 2,
   "metadata": {},
   "outputs": [],
   "source": [
    "data = get_data(\"../../data/authors.csv\")"
   ]
  },
  {
   "cell_type": "code",
   "execution_count": 3,
   "metadata": {},
   "outputs": [],
   "source": [
    "vectorizers = [CountVectorizer(ngram_range=(1,1), analyzer=\"word\"), \n",
    "                CountVectorizer(ngram_range=(1,3), analyzer=\"word\"),\n",
    "                CountVectorizer(ngram_range=(1,5), analyzer=\"char\"),\n",
    "                CountVectorizer(ngram_range=(4,5), analyzer=\"char\"),\n",
    "                CountVectorizer(ngram_range=(3,8), analyzer=\"char\"),\n",
    "                TfidfVectorizer(ngram_range=(1,1), analyzer=\"word\"), \n",
    "                TfidfVectorizer(ngram_range=(1,3), analyzer=\"word\"),\n",
    "                TfidfVectorizer(ngram_range=(1,5), analyzer=\"word\"),\n",
    "                TfidfVectorizer(ngram_range=(4,5), analyzer=\"word\"),\n",
    "                TfidfVectorizer(ngram_range=(3,8), analyzer=\"word\")]"
   ]
  },
  {
   "cell_type": "code",
   "execution_count": 4,
   "metadata": {},
   "outputs": [
    {
     "name": "stdout",
     "output_type": "stream",
     "text": [
      "Running => CountVectorizer()\n",
      "Running => CountVectorizer(ngram_range=(1, 3))\n",
      "Running => CountVectorizer(analyzer='char', ngram_range=(1, 5))\n",
      "Running => CountVectorizer(analyzer='char', ngram_range=(3, 8))\n",
      "Running => CountVectorizer(analyzer='char', ngram_range=(4, 5))\n"
     ]
    }
   ],
   "source": [
    "from joblib import Parallel, delayed\n",
    "def process(vectorizer):\n",
    "    evaluation = list()\n",
    "    usernames = list(np.unique(data[\"username\"]))\n",
    "    \n",
    "    vectorizer_str = vectorizer.__str__()\n",
    "    print(f\"Running => {vectorizer_str}\")\n",
    "\n",
    "    for i in range(len(usernames)):\n",
    "        author1 = usernames.pop()\n",
    "\n",
    "        for author2 in usernames:\n",
    "            X_train, X_test, y_train, y_test = temporal_train_test_split(\n",
    "                data, author1, author2)\n",
    "\n",
    "            clf = AuthorClassifier(vectorizer, clf=MultinomialNB())\n",
    "            clf.fit(X_train, y_train)\n",
    "            y_pred = clf.predict(X_test)\n",
    "            evaluation.append(clf.evaluate(y_test, y_pred))\n",
    "            metrics = pd.DataFrame(evaluation)[[\"f1_macro\", \"recall_macro\", \"precision_macro\", \"accuracy\", \"auc_score\"]].mean()\n",
    "    \n",
    "    return (vectorizer_str, metrics)\n",
    "    \n",
    "results = Parallel(n_jobs=5)(delayed(process)(vectorizer) for vectorizer in vectorizers)\n",
    "print(results) "
   ]
  }
 ],
 "metadata": {
  "interpreter": {
   "hash": "c47aa80a392bf6b860d7beb7b265756c1d97ffcd6d5effdf04ac88dd49d67208"
  },
  "kernelspec": {
   "display_name": "Python 3.8.10 ('reddit-in-portuguese-CNZVnMpw')",
   "language": "python",
   "name": "python3"
  },
  "language_info": {
   "codemirror_mode": {
    "name": "ipython",
    "version": 3
   },
   "file_extension": ".py",
   "mimetype": "text/x-python",
   "name": "python",
   "nbconvert_exporter": "python",
   "pygments_lexer": "ipython3",
   "version": "3.8.12"
  },
  "orig_nbformat": 4
 },
 "nbformat": 4,
 "nbformat_minor": 2
}
