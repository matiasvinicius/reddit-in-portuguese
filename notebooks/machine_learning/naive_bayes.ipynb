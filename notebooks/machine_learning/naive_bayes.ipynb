{
 "cells": [
  {
   "cell_type": "code",
   "execution_count": 1,
   "metadata": {},
   "outputs": [],
   "source": [
    "import sys\n",
    "sys.path.insert(1, '../../libs')\n",
    "from utils import get_data, temporal_train_test_split\n",
    "from autorship import AuthorClassifier\n",
    "from sklearn.preprocessing import MinMaxScaler\n",
    "from sklearn.feature_extraction.text import TfidfVectorizer, CountVectorizer\n",
    "import numpy as np\n",
    "import pandas as pd"
   ]
  },
  {
   "cell_type": "code",
   "execution_count": 2,
   "metadata": {},
   "outputs": [],
   "source": [
    "data = get_data(\"../../data/authors.csv\")"
   ]
  },
  {
   "cell_type": "code",
   "execution_count": 3,
   "metadata": {},
   "outputs": [],
   "source": [
    "# Create grid search based on two authors\n",
    "usernames = list(np.unique(data[\"username\"]))\n",
    "evaluation = list()\n",
    "param_grid = [{\"vectorizer\": [TfidfVectorizer(), CountVectorizer()],\n",
    "    \"vectorizer__ngram_range\": [(1,1), (2,2), (3,3), (1,5)],\n",
    "    \"clf__alpha\": [0.0001, 0.5, 1, 1.5]},\n",
    "    {\"vectorizer\": [TfidfVectorizer(), CountVectorizer()],\n",
    "    \"vectorizer__ngram_range\": [(2,5), (5,8), (3,8), (5,5), (8,8)],\n",
    "    \"vectorizer__analyzer\": [\"char\"],\n",
    "    \"clf__alpha\": [0.0001, 0.5, 1, 1.5]}]\n",
    "\n",
    "author1 = usernames.pop()\n",
    "author2 = usernames.pop()\n",
    "X_train, X_test, y_train, y_test = temporal_train_test_split(\n",
    "    data, author1, author2)\n",
    "\n",
    "clf = AuthorClassifier()\n",
    "pipe_grid = clf.fit(X_train, y_train, param_grid)"
   ]
  },
  {
   "cell_type": "code",
   "execution_count": 4,
   "metadata": {},
   "outputs": [
    {
     "data": {
      "text/plain": [
       "Pipeline(steps=[('vectorizer', CountVectorizer()), ('clf', MultinomialNB())])"
      ]
     },
     "execution_count": 4,
     "metadata": {},
     "output_type": "execute_result"
    }
   ],
   "source": [
    "#TODO: Adjust model to use param grid on fit of pipeline\n",
    "pipe_grid"
   ]
  },
  {
   "cell_type": "code",
   "execution_count": null,
   "metadata": {},
   "outputs": [],
   "source": [
    "# use best params from grid search to train and test other authorship models\n",
    "usernames = list(np.unique(data[\"username\"]))\n",
    "evaluation = list()\n",
    "\n",
    "for i in range(len(usernames)):\n",
    "    author1 = usernames.pop()\n",
    "    for author2 in usernames:\n",
    "        X_train, X_test, y_train, y_test = temporal_train_test_split(\n",
    "            data, author1, author2)\n",
    "\n",
    "        clf = AuthorClassifier(params=)\n",
    "        clf.fit(X_train, y_train)\n",
    "        y_pred = clf.predict(X_test)\n",
    "        evaluation.append(clf.evaluate(y_test, y_pred))\n",
    "\n",
    "pd.DataFrame(evaluation)[[\"f1_macro\", \"recall_macro\", \"precision_macro\", \"accuracy\", \"auc_score\"]].agg([\"mean\", \"std\", \"median\", \"min\", \"max\"])"
   ]
  }
 ],
 "metadata": {
  "interpreter": {
   "hash": "c47aa80a392bf6b860d7beb7b265756c1d97ffcd6d5effdf04ac88dd49d67208"
  },
  "kernelspec": {
   "display_name": "Python 3.8.10 ('reddit-in-portuguese-CNZVnMpw')",
   "language": "python",
   "name": "python3"
  },
  "language_info": {
   "codemirror_mode": {
    "name": "ipython",
    "version": 3
   },
   "file_extension": ".py",
   "mimetype": "text/x-python",
   "name": "python",
   "nbconvert_exporter": "python",
   "pygments_lexer": "ipython3",
   "version": "3.8.10"
  },
  "orig_nbformat": 4
 },
 "nbformat": 4,
 "nbformat_minor": 2
}
