{
 "cells": [
  {
   "cell_type": "markdown",
   "metadata": {},
   "source": [
    "Use `authors_pos.csv` to build the same classifiers used in word2vec, and same vectorizers form tfidf and count, being that we just analyze words now (POS tagging), including unigrams, bigrams etc."
   ]
  }
 ],
 "metadata": {
  "language_info": {
   "name": "python"
  },
  "orig_nbformat": 4
 },
 "nbformat": 4,
 "nbformat_minor": 2
}
