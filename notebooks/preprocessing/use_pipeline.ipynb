{
 "cells": [
  {
   "cell_type": "code",
   "execution_count": 4,
   "metadata": {},
   "outputs": [],
   "source": [
    "import sys\n",
    "sys.path.insert(1, '../../libs')\n",
    "from utils import get_data, SparseToArray\n",
    "from autorship import AuthorClassifier\n",
    "from sklearn.model_selection import train_test_split\n",
    "from sklearn.linear_model import LogisticRegression"
   ]
  },
  {
   "cell_type": "code",
   "execution_count": 10,
   "metadata": {},
   "outputs": [],
   "source": [
    "data = get_data(\"../../data/authors.csv\")\n",
    "data = data[data.username.isin(data.username.unique()[:2])] #select two authors"
   ]
  },
  {
   "cell_type": "code",
   "execution_count": 12,
   "metadata": {},
   "outputs": [
    {
     "name": "stdout",
     "output_type": "stream",
     "text": [
      "{'author1': 'BluePirate89', 'author2': 'Manada_2', 'precision_author1': 0.8471, 'recall_author1': 0.9028, 'f1_score_author1': 0.8741, 'precision_author2': 0.899, 'recall_author2': 0.8415, 'f1_score_author2': 0.8693, 'precision_weighted': 0.8734, 'precision_micro': 0.8717, 'precision_macro': 0.873, 'recall_weighted': 0.8717, 'recall_micro': 0.8717, 'recall_macro': 0.8721, 'f1_weighted': 0.8716, 'f1_micro': 0.8717, 'f1_macro': 0.8717, 'auc_score': 0.9505, 'accuracy': 0.8717}\n"
     ]
    }
   ],
   "source": [
    "X_train, X_test, y_train, y_test = train_test_split(\n",
    "    data.comment, data.username, test_size=0.33, random_state=42)\n",
    "    \n",
    "clf = AuthorClassifier(clf=LogisticRegression())\n",
    "pipe = clf.fit(X_train, y_train)\n",
    "y_pred = clf.predict(X_test)\n",
    "print(clf.evaluate(y_test, y_pred))"
   ]
  }
 ],
 "metadata": {
  "interpreter": {
   "hash": "c47aa80a392bf6b860d7beb7b265756c1d97ffcd6d5effdf04ac88dd49d67208"
  },
  "kernelspec": {
   "display_name": "Python 3.8.10 ('reddit-in-portuguese-CNZVnMpw')",
   "language": "python",
   "name": "python3"
  },
  "language_info": {
   "codemirror_mode": {
    "name": "ipython",
    "version": 3
   },
   "file_extension": ".py",
   "mimetype": "text/x-python",
   "name": "python",
   "nbconvert_exporter": "python",
   "pygments_lexer": "ipython3",
   "version": "3.8.10"
  },
  "orig_nbformat": 4
 },
 "nbformat": 4,
 "nbformat_minor": 2
}
