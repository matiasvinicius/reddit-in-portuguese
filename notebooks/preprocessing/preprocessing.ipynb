{
 "cells": [
  {
   "cell_type": "markdown",
   "metadata": {},
   "source": [
    "# Pre processing"
   ]
  },
  {
   "cell_type": "code",
   "execution_count": 1,
   "metadata": {},
   "outputs": [],
   "source": [
    "from sklearn.feature_extraction.text import CountVectorizer\n",
    "from sklearn.naive_bayes import MultinomialNB\n",
    "from sklearn.pipeline import Pipeline\n",
    "from sklearn.model_selection import train_test_split\n",
    "from sklearn.metrics import classification_report\n",
    "import seaborn as sns\n",
    "\n",
    "import sys\n",
    "sys.path.insert(1, '../../libs')\n",
    "from utils import get_data"
   ]
  },
  {
   "cell_type": "code",
   "execution_count": 2,
   "metadata": {},
   "outputs": [],
   "source": [
    "data = get_data(\"../../data/authors.csv\")\n",
    "data = data[data.username.isin(data.username.unique()[:2])] #select two authors"
   ]
  },
  {
   "cell_type": "code",
   "execution_count": 3,
   "metadata": {},
   "outputs": [],
   "source": [
    "class SparseToArray():\n",
    "    \"\"\"\n",
    "    https://stackoverflow.com/questions/28384680/scikit-learns-pipeline-a-sparse-matrix-was-passed-but-dense-data-is-required\n",
    "    \"\"\"\n",
    "\n",
    "    def __repr__(self):\n",
    "        return(\"SparseToArray()\")\n",
    "\n",
    "    def __str__(self):\n",
    "        return(\"SparseToArray()\")\n",
    "\n",
    "    def fit(self, X, y=None, **fit_params):\n",
    "        return self\n",
    "\n",
    "    def transform(self, X, y=None, **fit_params):\n",
    "        return X.toarray()"
   ]
  },
  {
   "cell_type": "code",
   "execution_count": 4,
   "metadata": {},
   "outputs": [],
   "source": [
    "class AuthorClassifier:\n",
    "    def __init__(self, \n",
    "                vectorizer=CountVectorizer(), \n",
    "                clf=MultinomialNB(),\n",
    "                scaler=None,\n",
    "                pca=None):\n",
    "        self.vectorizer = vectorizer\n",
    "        self.clf = clf\n",
    "        self.scaler = scaler\n",
    "        self.pca = pca\n",
    "        self.pipe = None\n",
    "\n",
    "    def fit(self, X_train, y_train):\n",
    "        steps = list() \n",
    "        steps.append((self.vectorizer.__str__(), self.vectorizer))\n",
    "\n",
    "        if self.scaler or self.pca: \n",
    "            steps.append((\"SparseToArray()\", SparseToArray()))\n",
    "        \n",
    "        if self.scaler: \n",
    "            steps.append((self.scaler.__str__(), self.scaler))\n",
    "        if self.pca: \n",
    "            steps.append((self.pca.__str__(), self.pca))\n",
    "        \n",
    "        steps.append((self.clf.__str__(), self.clf))\n",
    "\n",
    "        pipe = Pipeline(steps)\n",
    "        pipe.fit(X_train, y_train)\n",
    "        self.pipe = pipe\n",
    "        return pipe\n",
    "    \n",
    "    def predict(self, X_test):\n",
    "        y_pred = self.pipe.predict(X_test)\n",
    "        return y_pred\n",
    "    \n",
    "    def evaluate(self, y_true, y_pred):\n",
    "        return classification_report(y_true, y_pred)       "
   ]
  },
  {
   "cell_type": "code",
   "execution_count": 5,
   "metadata": {},
   "outputs": [
    {
     "name": "stdout",
     "output_type": "stream",
     "text": [
      "Pipeline(steps=[('CountVectorizer()', CountVectorizer()),\n",
      "                ('MultinomialNB()', MultinomialNB())])\n",
      "              precision    recall  f1-score   support\n",
      "\n",
      "BluePirate89       0.98      0.65      0.78       319\n",
      "    Manada_2       0.74      0.99      0.85       328\n",
      "\n",
      "    accuracy                           0.82       647\n",
      "   macro avg       0.86      0.82      0.81       647\n",
      "weighted avg       0.86      0.82      0.81       647\n",
      "\n"
     ]
    }
   ],
   "source": [
    "X_train, X_test, y_train, y_test = train_test_split(\n",
    "    data.comment, data.username, test_size=0.33, random_state=42)\n",
    "    \n",
    "clf = AuthorClassifier()\n",
    "print(clf.fit(X_train, y_train))\n",
    "y_pred = clf.predict(X_test)\n",
    "print(clf.evaluate(y_test, y_pred))"
   ]
  }
 ],
 "metadata": {
  "interpreter": {
   "hash": "c47aa80a392bf6b860d7beb7b265756c1d97ffcd6d5effdf04ac88dd49d67208"
  },
  "kernelspec": {
   "display_name": "Python 3.8.10 ('reddit-in-portuguese-CNZVnMpw')",
   "language": "python",
   "name": "python3"
  },
  "language_info": {
   "codemirror_mode": {
    "name": "ipython",
    "version": 3
   },
   "file_extension": ".py",
   "mimetype": "text/x-python",
   "name": "python",
   "nbconvert_exporter": "python",
   "pygments_lexer": "ipython3",
   "version": "3.8.10"
  },
  "orig_nbformat": 4
 },
 "nbformat": 4,
 "nbformat_minor": 2
}
