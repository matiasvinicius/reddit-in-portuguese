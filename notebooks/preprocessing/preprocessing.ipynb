{
 "cells": [
  {
   "cell_type": "markdown",
   "metadata": {},
   "source": [
    "# Pre processing"
   ]
  },
  {
   "cell_type": "code",
   "execution_count": 1,
   "metadata": {},
   "outputs": [],
   "source": [
    "from sklearn.feature_extraction.text import CountVectorizer\n",
    "from sklearn.naive_bayes import MultinomialNB\n",
    "from sklearn.linear_model import LogisticRegression\n",
    "from sklearn.pipeline import Pipeline\n",
    "from sklearn.model_selection import train_test_split\n",
    "from sklearn.metrics import precision_score, accuracy_score, recall_score, f1_score, roc_curve, roc_auc_score, plot_roc_curve\n",
    "import numpy as np\n",
    "import pandas as pd\n",
    "\n",
    "import sys\n",
    "sys.path.insert(1, '../../libs')\n",
    "from utils import get_data"
   ]
  },
  {
   "cell_type": "code",
   "execution_count": 2,
   "metadata": {},
   "outputs": [],
   "source": [
    "data = get_data(\"../../data/authors.csv\")\n",
    "data = data[data.username.isin(data.username.unique()[4:6])] #select two authors"
   ]
  },
  {
   "cell_type": "code",
   "execution_count": 3,
   "metadata": {},
   "outputs": [],
   "source": [
    "class SparseToArray():\n",
    "    \"\"\"\n",
    "    https://stackoverflow.com/questions/28384680/scikit-learns-pipeline-a-sparse-matrix-was-passed-but-dense-data-is-required\n",
    "    \"\"\"\n",
    "\n",
    "    def __repr__(self):\n",
    "        return(\"SparseToArray()\")\n",
    "\n",
    "    def __str__(self):\n",
    "        return(\"SparseToArray()\")\n",
    "\n",
    "    def fit(self, X, y=None, **fit_params):\n",
    "        return self\n",
    "\n",
    "    def transform(self, X, y=None, **fit_params):\n",
    "        return X.toarray()"
   ]
  },
  {
   "cell_type": "code",
   "execution_count": 6,
   "metadata": {},
   "outputs": [],
   "source": [
    "class AuthorClassifier:\n",
    "    def __init__(self, \n",
    "                vectorizer=CountVectorizer(), \n",
    "                clf=MultinomialNB(),\n",
    "                scaler=None,\n",
    "                pca=None):\n",
    "        self.vectorizer = vectorizer\n",
    "        self.clf = clf\n",
    "        self.scaler = scaler\n",
    "        self.pca = pca\n",
    "        self.pipe = None\n",
    "        self.auc_score = -1\n",
    "\n",
    "    def fit(self, X_train, y_train):\n",
    "        steps = list() \n",
    "        steps.append((self.vectorizer.__str__(), self.vectorizer))\n",
    "\n",
    "        if self.scaler or self.pca: \n",
    "            steps.append((\"SparseToArray()\", SparseToArray()))\n",
    "        \n",
    "        if self.scaler: \n",
    "            steps.append((self.scaler.__str__(), self.scaler))\n",
    "        if self.pca: \n",
    "            steps.append((self.pca.__str__(), self.pca))\n",
    "        \n",
    "        steps.append((self.clf.__str__(), self.clf))\n",
    "\n",
    "        pipe = Pipeline(steps)\n",
    "        pipe.fit(X_train, y_train)\n",
    "        self.pipe = pipe\n",
    "        return pipe\n",
    "    \n",
    "    def predict(self, X_test, store_auc=True):\n",
    "        y_pred = self.pipe.predict(X_test)\n",
    "        if store_auc:\n",
    "            self.auc_score = round(roc_auc_score(y_test, self.pipe.decision_function(X_test)), 4)\n",
    "        return y_pred\n",
    "    \n",
    "    def evaluate(self, y_true, y_pred):\n",
    "        metrics = dict()\n",
    "        for i, author in enumerate(np.unique(y_true)):\n",
    "            i += 1\n",
    "            metrics[f\"author{i}\"] = author\n",
    "        for i, author in enumerate(np.unique(y_true)):\n",
    "            i += 1\n",
    "            metrics[f\"precision_author{i}\"] = round(precision_score(y_true, y_pred, pos_label=author), 4)\n",
    "            metrics[f\"recall_author{i}\"] = round(recall_score(y_true, y_pred, pos_label=author), 4)\n",
    "            metrics[f\"f1_score_author{i}\"] = round(f1_score(y_true, y_pred, pos_label=author), 4)\n",
    "        metrics[\"precision_weighted\"] = round(precision_score(y_true, y_pred, average='weighted'), 4 )\n",
    "        metrics[\"precision_micro\"] = round(precision_score(y_true, y_pred, average='micro'), 4 )\n",
    "        metrics[\"precision_macro\"] = round(precision_score(y_true, y_pred, average='macro'), 4 )\n",
    "        metrics[\"recall_weighted\"] = round(recall_score(y_true, y_pred, average='weighted'), 4 )\n",
    "        metrics[\"recall_micro\"] = round(recall_score(y_true, y_pred, average='micro'), 4 )\n",
    "        metrics[\"recall_macro\"] = round(recall_score(y_true, y_pred, average='macro'), 4 )\n",
    "        metrics[\"f1_weighted\"] = round(f1_score(y_true, y_pred, average='weighted'), 4 )\n",
    "        metrics[\"f1_micro\"] = round(f1_score(y_true, y_pred, average='micro'), 4 )\n",
    "        metrics[\"f1_macro\"] = round(f1_score(y_true, y_pred, average='macro'), 4 )\n",
    "        metrics[\"auc_score\"] = self.auc_score\n",
    "        metrics[\"accuracy\"] = round(accuracy_score(y_true, y_pred), 4 )\n",
    "\n",
    "        return metrics\n"
   ]
  },
  {
   "cell_type": "code",
   "execution_count": 7,
   "metadata": {},
   "outputs": [
    {
     "data": {
      "text/plain": [
       "{'author1': 'MaxVonHabsburg',\n",
       " 'author2': 'TheGza1',\n",
       " 'precision_author1': 0.9197,\n",
       " 'recall_author1': 0.8155,\n",
       " 'f1_score_author1': 0.8645,\n",
       " 'precision_author2': 0.8371,\n",
       " 'recall_author2': 0.9302,\n",
       " 'f1_score_author2': 0.8812,\n",
       " 'precision_weighted': 0.878,\n",
       " 'precision_micro': 0.8734,\n",
       " 'precision_macro': 0.8784,\n",
       " 'recall_weighted': 0.8734,\n",
       " 'recall_micro': 0.8734,\n",
       " 'recall_macro': 0.8728,\n",
       " 'f1_weighted': 0.8729,\n",
       " 'f1_micro': 0.8734,\n",
       " 'f1_macro': 0.8728,\n",
       " 'auc_score': 0.9432,\n",
       " 'accuracy': 0.8734}"
      ]
     },
     "execution_count": 7,
     "metadata": {},
     "output_type": "execute_result"
    }
   ],
   "source": [
    "X_train, X_test, y_train, y_test = train_test_split(\n",
    "    data.comment, data.username, test_size=0.33, random_state=42)\n",
    "    \n",
    "clf = AuthorClassifier(clf=LogisticRegression())\n",
    "pipe = clf.fit(X_train, y_train)\n",
    "y_pred = clf.predict(X_test)\n",
    "clf.evaluate(y_test, y_pred)"
   ]
  }
 ],
 "metadata": {
  "interpreter": {
   "hash": "c47aa80a392bf6b860d7beb7b265756c1d97ffcd6d5effdf04ac88dd49d67208"
  },
  "kernelspec": {
   "display_name": "Python 3.8.10 ('reddit-in-portuguese-CNZVnMpw')",
   "language": "python",
   "name": "python3"
  },
  "language_info": {
   "codemirror_mode": {
    "name": "ipython",
    "version": 3
   },
   "file_extension": ".py",
   "mimetype": "text/x-python",
   "name": "python",
   "nbconvert_exporter": "python",
   "pygments_lexer": "ipython3",
   "version": "3.8.10"
  },
  "orig_nbformat": 4
 },
 "nbformat": 4,
 "nbformat_minor": 2
}
