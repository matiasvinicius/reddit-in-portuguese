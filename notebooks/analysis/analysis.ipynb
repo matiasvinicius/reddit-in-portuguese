{
 "cells": [
  {
   "cell_type": "code",
   "execution_count": 3,
   "metadata": {},
   "outputs": [],
   "source": [
    "import sys\n",
    "sys.path.insert(1, '../../libs')\n",
    "from utils import get_data, temporal_train_test_split\n",
    "from autorship import AuthorClassifier\n",
    "from sklearn.preprocessing import MaxAbsScaler\n",
    "from sklearn.ensemble import AdaBoostClassifier, RandomForestClassifier, StackingClassifier, GradientBoostingClassifier\n",
    "from sklearn.tree import DecisionTreeClassifier\n",
    "from sklearn.naive_bayes import MultinomialNB\n",
    "from sklearn.svm import LinearSVC, SVC\n",
    "from sklearn.linear_model import LogisticRegression\n",
    "from sklearn.feature_extraction.text import TfidfVectorizer, CountVectorizer\n",
    "from nltk.tokenize import TweetTokenizer\n",
    "import numpy as np\n",
    "import pandas as pd\n",
    "from joblib import Parallel, delayed"
   ]
  },
  {
   "cell_type": "code",
   "execution_count": 4,
   "metadata": {},
   "outputs": [],
   "source": [
    "data = get_data(\"../../data/authors.csv\")"
   ]
  },
  {
   "cell_type": "code",
   "execution_count": 5,
   "metadata": {},
   "outputs": [],
   "source": [
    "tt = TweetTokenizer()\n",
    "\n",
    "estimators = [\n",
    "        ('svm', LinearSVC(random_state=42, max_iter=10000)),\n",
    "        ('lr_l1', LogisticRegression(random_state=42, penalty=\"l1\", solver=\"liblinear\"),\n",
    "        ('rf'), RandomForestClassifier(random_state=42))]\n",
    "stacking = StackingClassifier(estimators=estimators, final_estimator=LogisticRegression(random_state=42, penalty=\"l2\", solver=\"liblinear\"))\n",
    "\n",
    "grid = [(MultinomialNB(), CountVectorizer(ngram_range=(1,3), analyzer=\"word\", tokenizer=tt.tokenize)),\n",
    "        (LogisticRegression(random_state=42, penalty=\"l1\", solver=\"liblinear\"), TfidfVectorizer(ngram_range=(1,5), analyzer=\"char\")),\n",
    "        (LogisticRegression(random_state=42, penalty=\"l2\", solver=\"liblinear\"), TfidfVectorizer(ngram_range=(1,1), analyzer=\"word\", tokenizer=tt.tokenize)),\n",
    "        (LinearSVC(random_state=42, max_iter=10000), TfidfVectorizer(ngram_range=(1,1), analyzer=\"word\", tokenizer=tt.tokenize)),\n",
    "        (SVC(random_state=42), TfidfVectorizer(ngram_range=(1,1), analyzer=\"word\", tokenizer=tt.tokenize)),\n",
    "        (DecisionTreeClassifier(random_state=42), CountVectorizer(ngram_range=(1,3), analyzer=\"word\", tokenizer=tt.tokenize)),\n",
    "        (RandomForestClassifier(random_state=42), CountVectorizer(ngram_range=(1,1), analyzer=\"word\", tokenizer=tt.tokenize)),\n",
    "        (AdaBoostClassifier(random_state=42), CountVectorizer(ngram_range=(1,5), analyzer=\"char\")),\n",
    "        (GradientBoostingClassifier(random_state=42), CountVectorizer(ngram_range=(1,3), analyzer=\"char\")),\n",
    "        (stacking, TfidfVectorizer(ngram_range=(1,1), analyzer=\"word\", tokenizer=tt.tokenize))\n",
    "        ]"
   ]
  },
  {
   "cell_type": "code",
   "execution_count": 6,
   "metadata": {},
   "outputs": [
    {
     "name": "stdout",
     "output_type": "stream",
     "text": [
      "Running ===> LogisticRegression(penalty='l1', random_state=42, solver='liblinear')\n",
      "Running ===> MultinomialNB()\n",
      "Running ===> LogisticRegression(random_state=42, solver='liblinear')\n",
      "Running ===> LinearSVC(max_iter=10000, random_state=42)\n",
      "Running ===> SVC(random_state=42)\n",
      "Running ===> DecisionTreeClassifier(random_state=42)\n"
     ]
    },
    {
     "ename": "KeyboardInterrupt",
     "evalue": "",
     "output_type": "error",
     "traceback": [
      "\u001b[0;31m---------------------------------------------------------------------------\u001b[0m",
      "\u001b[0;31mKeyboardInterrupt\u001b[0m                         Traceback (most recent call last)",
      "\u001b[1;32m/home/vinicius/Documents/old/reddit-in-portuguese/notebooks/analysis/analysis.ipynb Cell 4'\u001b[0m in \u001b[0;36m<cell line: 26>\u001b[0;34m()\u001b[0m\n\u001b[1;32m     <a href='vscode-notebook-cell:/home/vinicius/Documents/old/reddit-in-portuguese/notebooks/analysis/analysis.ipynb#ch0000003?line=22'>23</a>\u001b[0m     \u001b[39mprint\u001b[39m(\u001b[39mf\u001b[39m\u001b[39m\"\u001b[39m\u001b[39mFinish <=== \u001b[39m\u001b[39m{\u001b[39;00mclf_str\u001b[39m}\u001b[39;00m\u001b[39m\"\u001b[39m)\n\u001b[1;32m     <a href='vscode-notebook-cell:/home/vinicius/Documents/old/reddit-in-portuguese/notebooks/analysis/analysis.ipynb#ch0000003?line=23'>24</a>\u001b[0m     \u001b[39mreturn\u001b[39;00m (clf_str, metrics)\n\u001b[0;32m---> <a href='vscode-notebook-cell:/home/vinicius/Documents/old/reddit-in-portuguese/notebooks/analysis/analysis.ipynb#ch0000003?line=25'>26</a>\u001b[0m results \u001b[39m=\u001b[39m Parallel(n_jobs\u001b[39m=\u001b[39;49m\u001b[39m6\u001b[39;49m)(delayed(process)(clf, vectorizer) \u001b[39mfor\u001b[39;49;00m clf, vectorizer \u001b[39min\u001b[39;49;00m grid)\n",
      "File \u001b[0;32m~/.local/share/virtualenvs/reddit-in-portuguese-Kyc7Ejcc/lib/python3.8/site-packages/joblib/parallel.py:1056\u001b[0m, in \u001b[0;36mParallel.__call__\u001b[0;34m(self, iterable)\u001b[0m\n\u001b[1;32m   <a href='file:///home/vinicius/.local/share/virtualenvs/reddit-in-portuguese-Kyc7Ejcc/lib/python3.8/site-packages/joblib/parallel.py?line=1052'>1053</a>\u001b[0m     \u001b[39mself\u001b[39m\u001b[39m.\u001b[39m_iterating \u001b[39m=\u001b[39m \u001b[39mFalse\u001b[39;00m\n\u001b[1;32m   <a href='file:///home/vinicius/.local/share/virtualenvs/reddit-in-portuguese-Kyc7Ejcc/lib/python3.8/site-packages/joblib/parallel.py?line=1054'>1055</a>\u001b[0m \u001b[39mwith\u001b[39;00m \u001b[39mself\u001b[39m\u001b[39m.\u001b[39m_backend\u001b[39m.\u001b[39mretrieval_context():\n\u001b[0;32m-> <a href='file:///home/vinicius/.local/share/virtualenvs/reddit-in-portuguese-Kyc7Ejcc/lib/python3.8/site-packages/joblib/parallel.py?line=1055'>1056</a>\u001b[0m     \u001b[39mself\u001b[39;49m\u001b[39m.\u001b[39;49mretrieve()\n\u001b[1;32m   <a href='file:///home/vinicius/.local/share/virtualenvs/reddit-in-portuguese-Kyc7Ejcc/lib/python3.8/site-packages/joblib/parallel.py?line=1056'>1057</a>\u001b[0m \u001b[39m# Make sure that we get a last message telling us we are done\u001b[39;00m\n\u001b[1;32m   <a href='file:///home/vinicius/.local/share/virtualenvs/reddit-in-portuguese-Kyc7Ejcc/lib/python3.8/site-packages/joblib/parallel.py?line=1057'>1058</a>\u001b[0m elapsed_time \u001b[39m=\u001b[39m time\u001b[39m.\u001b[39mtime() \u001b[39m-\u001b[39m \u001b[39mself\u001b[39m\u001b[39m.\u001b[39m_start_time\n",
      "File \u001b[0;32m~/.local/share/virtualenvs/reddit-in-portuguese-Kyc7Ejcc/lib/python3.8/site-packages/joblib/parallel.py:935\u001b[0m, in \u001b[0;36mParallel.retrieve\u001b[0;34m(self)\u001b[0m\n\u001b[1;32m    <a href='file:///home/vinicius/.local/share/virtualenvs/reddit-in-portuguese-Kyc7Ejcc/lib/python3.8/site-packages/joblib/parallel.py?line=932'>933</a>\u001b[0m \u001b[39mtry\u001b[39;00m:\n\u001b[1;32m    <a href='file:///home/vinicius/.local/share/virtualenvs/reddit-in-portuguese-Kyc7Ejcc/lib/python3.8/site-packages/joblib/parallel.py?line=933'>934</a>\u001b[0m     \u001b[39mif\u001b[39;00m \u001b[39mgetattr\u001b[39m(\u001b[39mself\u001b[39m\u001b[39m.\u001b[39m_backend, \u001b[39m'\u001b[39m\u001b[39msupports_timeout\u001b[39m\u001b[39m'\u001b[39m, \u001b[39mFalse\u001b[39;00m):\n\u001b[0;32m--> <a href='file:///home/vinicius/.local/share/virtualenvs/reddit-in-portuguese-Kyc7Ejcc/lib/python3.8/site-packages/joblib/parallel.py?line=934'>935</a>\u001b[0m         \u001b[39mself\u001b[39m\u001b[39m.\u001b[39m_output\u001b[39m.\u001b[39mextend(job\u001b[39m.\u001b[39;49mget(timeout\u001b[39m=\u001b[39;49m\u001b[39mself\u001b[39;49m\u001b[39m.\u001b[39;49mtimeout))\n\u001b[1;32m    <a href='file:///home/vinicius/.local/share/virtualenvs/reddit-in-portuguese-Kyc7Ejcc/lib/python3.8/site-packages/joblib/parallel.py?line=935'>936</a>\u001b[0m     \u001b[39melse\u001b[39;00m:\n\u001b[1;32m    <a href='file:///home/vinicius/.local/share/virtualenvs/reddit-in-portuguese-Kyc7Ejcc/lib/python3.8/site-packages/joblib/parallel.py?line=936'>937</a>\u001b[0m         \u001b[39mself\u001b[39m\u001b[39m.\u001b[39m_output\u001b[39m.\u001b[39mextend(job\u001b[39m.\u001b[39mget())\n",
      "File \u001b[0;32m~/.local/share/virtualenvs/reddit-in-portuguese-Kyc7Ejcc/lib/python3.8/site-packages/joblib/_parallel_backends.py:542\u001b[0m, in \u001b[0;36mLokyBackend.wrap_future_result\u001b[0;34m(future, timeout)\u001b[0m\n\u001b[1;32m    <a href='file:///home/vinicius/.local/share/virtualenvs/reddit-in-portuguese-Kyc7Ejcc/lib/python3.8/site-packages/joblib/_parallel_backends.py?line=538'>539</a>\u001b[0m \u001b[39m\"\"\"Wrapper for Future.result to implement the same behaviour as\u001b[39;00m\n\u001b[1;32m    <a href='file:///home/vinicius/.local/share/virtualenvs/reddit-in-portuguese-Kyc7Ejcc/lib/python3.8/site-packages/joblib/_parallel_backends.py?line=539'>540</a>\u001b[0m \u001b[39mAsyncResults.get from multiprocessing.\"\"\"\u001b[39;00m\n\u001b[1;32m    <a href='file:///home/vinicius/.local/share/virtualenvs/reddit-in-portuguese-Kyc7Ejcc/lib/python3.8/site-packages/joblib/_parallel_backends.py?line=540'>541</a>\u001b[0m \u001b[39mtry\u001b[39;00m:\n\u001b[0;32m--> <a href='file:///home/vinicius/.local/share/virtualenvs/reddit-in-portuguese-Kyc7Ejcc/lib/python3.8/site-packages/joblib/_parallel_backends.py?line=541'>542</a>\u001b[0m     \u001b[39mreturn\u001b[39;00m future\u001b[39m.\u001b[39;49mresult(timeout\u001b[39m=\u001b[39;49mtimeout)\n\u001b[1;32m    <a href='file:///home/vinicius/.local/share/virtualenvs/reddit-in-portuguese-Kyc7Ejcc/lib/python3.8/site-packages/joblib/_parallel_backends.py?line=542'>543</a>\u001b[0m \u001b[39mexcept\u001b[39;00m CfTimeoutError \u001b[39mas\u001b[39;00m e:\n\u001b[1;32m    <a href='file:///home/vinicius/.local/share/virtualenvs/reddit-in-portuguese-Kyc7Ejcc/lib/python3.8/site-packages/joblib/_parallel_backends.py?line=543'>544</a>\u001b[0m     \u001b[39mraise\u001b[39;00m \u001b[39mTimeoutError\u001b[39;00m \u001b[39mfrom\u001b[39;00m \u001b[39me\u001b[39;00m\n",
      "File \u001b[0;32m~/.pyenv/versions/3.8.12/lib/python3.8/concurrent/futures/_base.py:439\u001b[0m, in \u001b[0;36mFuture.result\u001b[0;34m(self, timeout)\u001b[0m\n\u001b[1;32m    <a href='file:///home/vinicius/.pyenv/versions/3.8.12/lib/python3.8/concurrent/futures/_base.py?line=435'>436</a>\u001b[0m \u001b[39melif\u001b[39;00m \u001b[39mself\u001b[39m\u001b[39m.\u001b[39m_state \u001b[39m==\u001b[39m FINISHED:\n\u001b[1;32m    <a href='file:///home/vinicius/.pyenv/versions/3.8.12/lib/python3.8/concurrent/futures/_base.py?line=436'>437</a>\u001b[0m     \u001b[39mreturn\u001b[39;00m \u001b[39mself\u001b[39m\u001b[39m.\u001b[39m__get_result()\n\u001b[0;32m--> <a href='file:///home/vinicius/.pyenv/versions/3.8.12/lib/python3.8/concurrent/futures/_base.py?line=438'>439</a>\u001b[0m \u001b[39mself\u001b[39;49m\u001b[39m.\u001b[39;49m_condition\u001b[39m.\u001b[39;49mwait(timeout)\n\u001b[1;32m    <a href='file:///home/vinicius/.pyenv/versions/3.8.12/lib/python3.8/concurrent/futures/_base.py?line=440'>441</a>\u001b[0m \u001b[39mif\u001b[39;00m \u001b[39mself\u001b[39m\u001b[39m.\u001b[39m_state \u001b[39min\u001b[39;00m [CANCELLED, CANCELLED_AND_NOTIFIED]:\n\u001b[1;32m    <a href='file:///home/vinicius/.pyenv/versions/3.8.12/lib/python3.8/concurrent/futures/_base.py?line=441'>442</a>\u001b[0m     \u001b[39mraise\u001b[39;00m CancelledError()\n",
      "File \u001b[0;32m~/.pyenv/versions/3.8.12/lib/python3.8/threading.py:302\u001b[0m, in \u001b[0;36mCondition.wait\u001b[0;34m(self, timeout)\u001b[0m\n\u001b[1;32m    <a href='file:///home/vinicius/.pyenv/versions/3.8.12/lib/python3.8/threading.py?line=299'>300</a>\u001b[0m \u001b[39mtry\u001b[39;00m:    \u001b[39m# restore state no matter what (e.g., KeyboardInterrupt)\u001b[39;00m\n\u001b[1;32m    <a href='file:///home/vinicius/.pyenv/versions/3.8.12/lib/python3.8/threading.py?line=300'>301</a>\u001b[0m     \u001b[39mif\u001b[39;00m timeout \u001b[39mis\u001b[39;00m \u001b[39mNone\u001b[39;00m:\n\u001b[0;32m--> <a href='file:///home/vinicius/.pyenv/versions/3.8.12/lib/python3.8/threading.py?line=301'>302</a>\u001b[0m         waiter\u001b[39m.\u001b[39;49macquire()\n\u001b[1;32m    <a href='file:///home/vinicius/.pyenv/versions/3.8.12/lib/python3.8/threading.py?line=302'>303</a>\u001b[0m         gotit \u001b[39m=\u001b[39m \u001b[39mTrue\u001b[39;00m\n\u001b[1;32m    <a href='file:///home/vinicius/.pyenv/versions/3.8.12/lib/python3.8/threading.py?line=303'>304</a>\u001b[0m     \u001b[39melse\u001b[39;00m:\n",
      "\u001b[0;31mKeyboardInterrupt\u001b[0m: "
     ]
    }
   ],
   "source": [
    "from joblib import Parallel, delayed\n",
    "def process(clf, vectorizer):\n",
    "    clf_str = clf.__str__()\n",
    "    print(f\"Running ===> {clf_str}\")\n",
    "    evaluation = list()\n",
    "    usernames = list(np.unique(data[\"username\"]))\n",
    "\n",
    "    for i in range(len(usernames)):\n",
    "        author1 = usernames.pop()\n",
    "\n",
    "        for author2 in usernames:\n",
    "            X_train, X_test, y_train, y_test = temporal_train_test_split(   \n",
    "                data, author1, author2)\n",
    "\n",
    "            author_clf = AuthorClassifier(clf=clf, vectorizer=vectorizer, scaler=MaxAbsScaler())\n",
    "            author_clf.fit(X_train[\"comment\"], y_train)\n",
    "            y_pred = author_clf.predict(X_test[\"comment\"])\n",
    "            evaluation.append(author_clf.evaluate(y_test, y_pred))\n",
    "\n",
    "    metrics = pd.DataFrame(evaluation)\n",
    "    metrics[\"clf\"] = [clf_str for i in range(len(metrics))]\n",
    "\n",
    "    print(f\"Finish <=== {clf_str}\")\n",
    "    return (clf_str, metrics)\n",
    "        \n",
    "results = Parallel(n_jobs=6)(delayed(process)(clf, vectorizer) for clf, vectorizer in grid)"
   ]
  },
  {
   "cell_type": "code",
   "execution_count": null,
   "metadata": {},
   "outputs": [],
   "source": [
    "# import numpy as np, scipy.stats as st\n",
    "# import matplotlib.pyplot as plt\n",
    "# import seaborn as sns\n",
    "\n",
    "# lim_inf, lim_sup = st.t.interval(0.95, len(metrics[\"accuracy\"])-1, loc=metrics[\"accuracy\"].mean(), scale=st.sem(metrics[\"accuracy\"]))\n",
    "# sns.displot(metrics[\"accuracy\"], kde=True)\n",
    "# plt.axvline(lim_inf, color=\"red\")\n",
    "# plt.axvline(lim_sup, color=\"red\")"
   ]
  },
  {
   "cell_type": "code",
   "execution_count": null,
   "metadata": {},
   "outputs": [],
   "source": [
    "# sns.barplot(y='accuracy', data=metrics, estimator=np.mean, ci=95, capsize=.2, color='lightblue')"
   ]
  }
 ],
 "metadata": {
  "interpreter": {
   "hash": "2961734913207ee881f462d4bc826f1f53aa8b6216ab04f585499525ca3800dd"
  },
  "kernelspec": {
   "display_name": "Python 3.8.12 ('reddit-in-portuguese-Kyc7Ejcc')",
   "language": "python",
   "name": "python3"
  },
  "language_info": {
   "codemirror_mode": {
    "name": "ipython",
    "version": 3
   },
   "file_extension": ".py",
   "mimetype": "text/x-python",
   "name": "python",
   "nbconvert_exporter": "python",
   "pygments_lexer": "ipython3",
   "version": "3.8.12"
  },
  "orig_nbformat": 4
 },
 "nbformat": 4,
 "nbformat_minor": 2
}
